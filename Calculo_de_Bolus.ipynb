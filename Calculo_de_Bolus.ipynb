{
  "cells": [
    {
      "cell_type": "markdown",
      "metadata": {
        "id": "view-in-github",
        "colab_type": "text"
      },
      "source": [
        "<a href=\"https://colab.research.google.com/github/LucianoClemente40/ChatBot-Diabeticos/blob/main/Calculo_de_Bolus.ipynb\" target=\"_parent\"><img src=\"https://colab.research.google.com/assets/colab-badge.svg\" alt=\"Open In Colab\"/></a>"
      ]
    },
    {
      "cell_type": "code",
      "execution_count": null,
      "metadata": {
        "id": "UCCbECexLk_h"
      },
      "outputs": [],
      "source": [
        "%pip -q install google-genai"
      ]
    },
    {
      "cell_type": "code",
      "execution_count": null,
      "metadata": {
        "id": "NfCqHo1tLk8P"
      },
      "outputs": [],
      "source": [
        "# Configura a API Key do Google Gemini\n",
        "\n",
        "import os\n",
        "from google.colab import userdata\n",
        "\n",
        "os.environ[\"GOOGLE_API_KEY\"] = userdata.get('GOOGLE_API_KEY')"
      ]
    },
    {
      "cell_type": "code",
      "execution_count": null,
      "metadata": {
        "id": "bV4w0H5TLk5g"
      },
      "outputs": [],
      "source": [
        "# Configura o cliente da SDK do Gemini\n",
        "\n",
        "from google import genai\n",
        "\n",
        "client = genai.Client()\n",
        "\n",
        "MODEL_ID = \"gemini-2.0-flash\"\n"
      ]
    },
    {
      "cell_type": "code",
      "execution_count": null,
      "metadata": {
        "id": "a1eRPalxEnj7"
      },
      "outputs": [],
      "source": [
        "# Instalar Framework de agentes do Google ################################################\n",
        "!pip install -q google-adk"
      ]
    },
    {
      "cell_type": "code",
      "execution_count": null,
      "metadata": {
        "id": "aePV2bdfDeoW"
      },
      "outputs": [],
      "source": [
        "from google.adk.agents import Agent\n",
        "from google.adk.runners import Runner\n",
        "from google.adk.sessions import InMemorySessionService\n",
        "from google.adk.tools import google_search\n",
        "from google.genai import types  # Para criar conteúdos (Content e Part)\n",
        "from datetime import date\n",
        "import textwrap # Para formatar melhor a saída de texto\n",
        "from IPython.display import display, Markdown # Para exibir texto formatado no Colab\n",
        "import requests # Para fazer requisições HTTP\n",
        "import warnings\n",
        "\n",
        "warnings.filterwarnings(\"ignore\")"
      ]
    },
    {
      "cell_type": "code",
      "execution_count": null,
      "metadata": {
        "id": "_xP4lWhsS5ko"
      },
      "outputs": [],
      "source": [
        "# Função auxiliar que envia uma mensagem para um agente via Runner e retorna a resposta final\n",
        "def call_agent(agent: Agent, message_text: str) -> str:\n",
        "    # Cria um serviço de sessão em memória\n",
        "    session_service = InMemorySessionService()\n",
        "    # Cria uma nova sessão (você pode personalizar os IDs conforme necessário)\n",
        "    session = session_service.create_session(app_name=agent.name, user_id=\"user1\", session_id=\"session1\")\n",
        "    # Cria um Runner para o agente\n",
        "    runner = Runner(agent=agent, app_name=agent.name, session_service=session_service)\n",
        "    # Cria o conteúdo da mensagem de entrada\n",
        "    content = types.Content(role=\"user\", parts=[types.Part(text=message_text)])\n",
        "\n",
        "    final_response = \"\"\n",
        "    # Itera assincronamente pelos eventos retornados durante a execução do agente\n",
        "    for event in runner.run(user_id=\"user1\", session_id=\"session1\", new_message=content):\n",
        "        if event.is_final_response():\n",
        "          for part in event.content.parts:\n",
        "            if part.text is not None:\n",
        "              final_response += part.text\n",
        "              final_response += \"\\n\"\n",
        "    return final_response"
      ]
    },
    {
      "cell_type": "code",
      "execution_count": null,
      "metadata": {
        "id": "8dosiodaxfFR"
      },
      "outputs": [],
      "source": [
        "# Função auxiliar para exibir texto formatado em Markdown no Colab\n",
        "def to_markdown(text):\n",
        "  text = text.replace('•', '  *')\n",
        "  return Markdown(textwrap.indent(text, '> ', predicate=lambda _: True))"
      ]
    },
    {
      "cell_type": "code",
      "execution_count": 36,
      "metadata": {
        "id": "o8bqIfi_DyH8"
      },
      "outputs": [],
      "source": [
        "##########################################\n",
        "# --- Agente 1: Preparação do atendimento --- #\n",
        "##########################################\n",
        "topico =\"Bolus insulina\"\n",
        "def Atendente(topico, data_de_hoje, valor_glicemico):\n",
        "\n",
        "    primeiro_atendente = Agent(\n",
        "        name=\"atendente_1\",\n",
        "        model=\"gemini-2.0-flash\",\n",
        "        instruction=\"\"\"\n",
        "        Você é um assistente de saúde. A sua tarefa é usar a ferramenta de busca do google (google_search)\n",
        "        para recuperar as últimas conhecimento sobre diabetes relevantes sobre o tópico abaixo.\n",
        "        Foque em no máximo 5 lançamentos relevantes, com base na quantidade e entusiasmo das notícias sobre ele e em sua qualidade.\n",
        "        Se um tema tiver poucas notícias ou reações entusiasmadas, é possível que ele não seja tão relevante assim\n",
        "        e pode ser substituído por outro que tenha mais.\n",
        "        Esses lançamentos relevantes devem ser atuais, de no máximo cinco anos antes da data de hoje.\n",
        "        \"\"\",\n",
        "        description=\"Agente de saúde especialista em Diabetes\",\n",
        "        tools=[google_search]\n",
        "    )\n",
        "\n",
        "    entrada_do_agente_buscador = f\"Tópico: {topico}\\nData de hoje: {data_de_hoje}\\nValor_glicemico: {valor_glicemico}\"\n",
        "\n",
        "    base_conh = call_agent(primeiro_atendente, entrada_do_agente_buscador)\n",
        "    return base_conh"
      ]
    },
    {
      "cell_type": "code",
      "execution_count": 43,
      "metadata": {
        "id": "y3VO1uo5_ghO"
      },
      "outputs": [],
      "source": [
        "################################################\n",
        "# --- Agente 2: Tratamento da hiperglicemia --- #\n",
        "################################################\n",
        "def agente_planejador(topico, base_conh, valor_glicemico ):\n",
        "    planejador = Agent(\n",
        "        name=\"agente_planejador\",\n",
        "        model=\"gemini-2.0-flash\",\n",
        "        # Inserir as instruções do Agente Planejador #################################################\n",
        "        instruction=\"\"\"\n",
        "        Você é um assistente de saúde, especialista em diabetes. Com base na lista de\n",
        "        conhecimentos mais recentes e relevantes buscados, você deve:\n",
        "        usar a ferramenta de busca do Google (google_search) para aprofundar o\n",
        "        tema e indicar a dose recomendada de insulina para correção da glicemia (bolus).\n",
        "        A resposta deve ser: Você precisa tormar (dose idicada) unidade de insulina.\n",
        "        Sempre concidere o valor glicemico informado pelo paciente como sendo Valor = número mg/dl.\n",
        "        Se o resultado for decimal < ,5 arredonde para baixo se > arredonde para\n",
        "        cima, sempre no inteiro mais proxímo.\n",
        "        Considere faxa ótima de glicemia entre 60 e 100 mg/dl e faça suas indicações para valores\n",
        "        abaixo e acima disso.\n",
        "        Considere o FC = 30.\n",
        "        Seus resposta serão sucintas e objetivas.\n",
        "        \"\"\",\n",
        "        description=\"Agente que planeja o bolos de insulina\",\n",
        "        tools=[google_search]\n",
        "    )\n",
        "\n",
        "    entrada_do_agente_planejador = f\"Tópico:{topico}\\nConhecimento_buscados: {base_conh}\\nValor_glicemico: {valor_glicemico}\"\n",
        "    # Executa o agente\n",
        "    plano_de_bolus = call_agent(planejador, entrada_do_agente_planejador)\n",
        "    return plano_de_bolus"
      ]
    },
    {
      "cell_type": "code",
      "execution_count": null,
      "metadata": {
        "id": "6xzI6LKzxxnN"
      },
      "outputs": [],
      "source": [
        "data_de_hoje = date.today().strftime(\"%d/%m/%Y\")\n",
        "topico = \"Bolus insulina\"\n",
        "\n",
        "print(\"🚀 Iniciando o atendimento para calcular sua dose para o bolus de insulina 🚀\")\n",
        "\n",
        "# --- Obter o Tópico do Usuário ---\n",
        "valor_glicemico = input(\"❓ Por favor, digite sua glicemia: \")\n",
        "\n",
        "# Inserir lógica do sistema de agentes ################################################\n",
        "if not valor_glicemico:\n",
        "    print(\"Você precisa informar sua glicemia\")\n",
        "else:\n",
        "    print(f\"Maravilha! Vamos ver quanto de insulina você precisa {valor_glicemico}\")\n",
        "\n",
        "    conhecimento = Atendente(topico, data_de_hoje, valor_glicemico)\n",
        "\n",
        "    plano_de_bolus = agente_planejador(topico, conhecimento, valor_glicemico)\n",
        "    print(\"\\n--- 📝 Resultado do Agente 2 (Planejador) ---\\n\")\n",
        "    display(to_markdown(plano_de_bolus))\n",
        "    print(\"--------------------------------------------------------------\")"
      ]
    }
  ],
  "metadata": {
    "colab": {
      "provenance": [],
      "include_colab_link": true
    },
    "kernelspec": {
      "display_name": "Python 3",
      "name": "python3"
    },
    "language_info": {
      "name": "python"
    }
  },
  "nbformat": 4,
  "nbformat_minor": 0
}